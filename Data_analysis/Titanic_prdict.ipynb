{
 "cells": [
  {
   "cell_type": "code",
   "execution_count": 1,
   "id": "ce11045a-60bd-4514-8778-6f9d223c29ba",
   "metadata": {},
   "outputs": [],
   "source": [
    "import pandas as pd"
   ]
  },
  {
   "cell_type": "code",
   "execution_count": 2,
   "id": "0501a219-6264-401f-9d07-d32d45855bf6",
   "metadata": {},
   "outputs": [],
   "source": [
    "df = pd.read_csv('titanic.csv')"
   ]
  },
  {
   "cell_type": "code",
   "execution_count": 3,
   "id": "30f6840e-6a8c-41df-8411-7502db71050c",
   "metadata": {},
   "outputs": [
    {
     "name": "stdout",
     "output_type": "stream",
     "text": [
      "<class 'pandas.core.frame.DataFrame'>\n",
      "RangeIndex: 891 entries, 0 to 890\n",
      "Data columns (total 12 columns):\n",
      " #   Column       Non-Null Count  Dtype  \n",
      "---  ------       --------------  -----  \n",
      " 0   PassengerId  891 non-null    int64  \n",
      " 1   Survived     891 non-null    int64  \n",
      " 2   Pclass       891 non-null    int64  \n",
      " 3   Name         891 non-null    object \n",
      " 4   Sex          891 non-null    object \n",
      " 5   Age          714 non-null    float64\n",
      " 6   SibSp        891 non-null    int64  \n",
      " 7   Parch        891 non-null    int64  \n",
      " 8   Ticket       891 non-null    object \n",
      " 9   Fare         891 non-null    float64\n",
      " 10  Cabin        204 non-null    object \n",
      " 11  Embarked     889 non-null    object \n",
      "dtypes: float64(2), int64(5), object(5)\n",
      "memory usage: 83.7+ KB\n"
     ]
    }
   ],
   "source": [
    "df.info()"
   ]
  },
  {
   "cell_type": "code",
   "execution_count": 4,
   "id": "c4ed019a-e4bd-4d74-9065-f8a6298ff723",
   "metadata": {},
   "outputs": [],
   "source": [
    "temp = df.groupby('Pclass')['Age'].mean()\n",
    "age_1 = temp[1]\n",
    "age_2 = temp[2]\n",
    "age_3 = temp[3]"
   ]
  },
  {
   "cell_type": "code",
   "execution_count": 5,
   "id": "f4e3a005-f1e9-4f8f-b953-2c4195b0ac4b",
   "metadata": {},
   "outputs": [],
   "source": [
    "def fill_age(row):\n",
    "    if pd.isnull(row['Age']):\n",
    "        if row['Pclass'] == 1:\n",
    "            return age_1\n",
    "        elif row['Pclass'] == 2:\n",
    "            return age_2\n",
    "        elif row['Pclass'] == 3:\n",
    "            return age_3\n",
    "    else:\n",
    "        return row['Age']\n",
    "df['Age'] = df.apply(fill_age, axis=1)"
   ]
  },
  {
   "cell_type": "code",
   "execution_count": 6,
   "id": "6cb5e77d-a61a-4aa2-80e8-79595dcbadeb",
   "metadata": {},
   "outputs": [],
   "source": [
    "df['Embarked'] = df['Embarked'].fillna('S')"
   ]
  },
  {
   "cell_type": "code",
   "execution_count": 7,
   "id": "ec84fdc5-939f-42dc-997b-0dd1020456fc",
   "metadata": {},
   "outputs": [],
   "source": [
    "names = df['Name'].copy()"
   ]
  },
  {
   "cell_type": "code",
   "execution_count": 8,
   "id": "2637e043-7f97-40b0-bfd3-c58674b02b7f",
   "metadata": {},
   "outputs": [],
   "source": [
    "df.drop(['PassengerId', 'Cabin', 'Name', 'Ticket'], axis=1, inplace=True)"
   ]
  },
  {
   "cell_type": "code",
   "execution_count": 9,
   "id": "a590f7ba-64ad-4ea9-894c-e20143db486a",
   "metadata": {},
   "outputs": [],
   "source": [
    "def convert(value):\n",
    "    if value == 'male':\n",
    "        return 1\n",
    "    else:\n",
    "        return 0\n",
    "df['Sex'] = df['Sex'].apply(convert)"
   ]
  },
  {
   "cell_type": "code",
   "execution_count": 10,
   "id": "b9971be6-696c-4313-b0de-558efcc26153",
   "metadata": {},
   "outputs": [],
   "source": [
    "df[list(pd.get_dummies(df['Embarked']).columns)] = pd.get_dummies(df['Embarked'])"
   ]
  },
  {
   "cell_type": "code",
   "execution_count": 11,
   "id": "05d74f66-b303-4fb6-b940-0ef401f0c5e7",
   "metadata": {},
   "outputs": [],
   "source": [
    "df.drop('Embarked', axis=1, inplace=True)"
   ]
  },
  {
   "cell_type": "code",
   "execution_count": 12,
   "id": "feb17214-0333-4591-8fea-5a93bf83c334",
   "metadata": {},
   "outputs": [],
   "source": [
    "def convert(value):\n",
    "    if value:\n",
    "        return int(value)\n",
    "df['Age'] = df['Age'].apply(convert)"
   ]
  },
  {
   "cell_type": "code",
   "execution_count": 13,
   "id": "6c4f11d5-0c22-4147-96c2-008f48f9967a",
   "metadata": {},
   "outputs": [],
   "source": [
    "df['Relative'] = df['SibSp'] + df['Parch']"
   ]
  },
  {
   "cell_type": "code",
   "execution_count": 14,
   "id": "3871697e-affd-468c-8587-0e5a6610d207",
   "metadata": {},
   "outputs": [],
   "source": [
    "def convert(value):\n",
    "    if value > 0:\n",
    "        return 1\n",
    "    else:\n",
    "        return 0\n",
    "df['Relative'] = df['Relative'].apply(convert)"
   ]
  },
  {
   "cell_type": "code",
   "execution_count": 15,
   "id": "1371509d-d8e1-46b7-8195-bcc265ef552f",
   "metadata": {},
   "outputs": [],
   "source": [
    "df.drop('Relative', axis=1, inplace=True)"
   ]
  },
  {
   "cell_type": "code",
   "execution_count": null,
   "id": "c76c4382-82c4-4c71-89a4-1a32ea6064e9",
   "metadata": {},
   "outputs": [],
   "source": []
  },
  {
   "cell_type": "code",
   "execution_count": 26,
   "id": "4faf462f-d33c-4ace-94d2-2453445b8eeb",
   "metadata": {},
   "outputs": [],
   "source": [
    "from sklearn.model_selection import train_test_split\n",
    "from sklearn.preprocessing import StandardScaler\n",
    "from sklearn.neighbors import KNeighborsClassifier\n",
    "from sklearn.metrics import confusion_matrix, accuracy_score"
   ]
  },
  {
   "cell_type": "code",
   "execution_count": 27,
   "id": "39d78cde-4b92-4cff-a42a-b4a1bd39da2c",
   "metadata": {},
   "outputs": [],
   "source": [
    "x = df.drop('Survived', axis=1)\n",
    "y = df['Survived']"
   ]
  },
  {
   "cell_type": "code",
   "execution_count": 43,
   "id": "c25284cf-bfba-43bf-b47e-f72a1a66bcbb",
   "metadata": {},
   "outputs": [],
   "source": [
    "x_train, x_test, y_train, y_test, names_train, names_test = train_test_split(x, y, names, test_size=0.25, random_state=42)"
   ]
  },
  {
   "cell_type": "code",
   "execution_count": 44,
   "id": "837b2d0f-8c47-4de6-b7de-8c83b5094732",
   "metadata": {},
   "outputs": [],
   "source": [
    "sc = StandardScaler()"
   ]
  },
  {
   "cell_type": "code",
   "execution_count": 45,
   "id": "6fe6a746-ac53-4839-a975-1a0d52837356",
   "metadata": {},
   "outputs": [],
   "source": [
    "x_train = sc.fit_transform(x_train)"
   ]
  },
  {
   "cell_type": "code",
   "execution_count": 46,
   "id": "962319c9-934e-4558-a49f-a643dd9f8202",
   "metadata": {},
   "outputs": [],
   "source": [
    "x_test = sc.transform(x_test)"
   ]
  },
  {
   "cell_type": "code",
   "execution_count": 47,
   "id": "be1e77ac-dca6-4c5c-9b5c-8e8a7e286e36",
   "metadata": {},
   "outputs": [
    {
     "data": {
      "text/html": [
       "<style>#sk-container-id-4 {color: black;}#sk-container-id-4 pre{padding: 0;}#sk-container-id-4 div.sk-toggleable {background-color: white;}#sk-container-id-4 label.sk-toggleable__label {cursor: pointer;display: block;width: 100%;margin-bottom: 0;padding: 0.3em;box-sizing: border-box;text-align: center;}#sk-container-id-4 label.sk-toggleable__label-arrow:before {content: \"▸\";float: left;margin-right: 0.25em;color: #696969;}#sk-container-id-4 label.sk-toggleable__label-arrow:hover:before {color: black;}#sk-container-id-4 div.sk-estimator:hover label.sk-toggleable__label-arrow:before {color: black;}#sk-container-id-4 div.sk-toggleable__content {max-height: 0;max-width: 0;overflow: hidden;text-align: left;background-color: #f0f8ff;}#sk-container-id-4 div.sk-toggleable__content pre {margin: 0.2em;color: black;border-radius: 0.25em;background-color: #f0f8ff;}#sk-container-id-4 input.sk-toggleable__control:checked~div.sk-toggleable__content {max-height: 200px;max-width: 100%;overflow: auto;}#sk-container-id-4 input.sk-toggleable__control:checked~label.sk-toggleable__label-arrow:before {content: \"▾\";}#sk-container-id-4 div.sk-estimator input.sk-toggleable__control:checked~label.sk-toggleable__label {background-color: #d4ebff;}#sk-container-id-4 div.sk-label input.sk-toggleable__control:checked~label.sk-toggleable__label {background-color: #d4ebff;}#sk-container-id-4 input.sk-hidden--visually {border: 0;clip: rect(1px 1px 1px 1px);clip: rect(1px, 1px, 1px, 1px);height: 1px;margin: -1px;overflow: hidden;padding: 0;position: absolute;width: 1px;}#sk-container-id-4 div.sk-estimator {font-family: monospace;background-color: #f0f8ff;border: 1px dotted black;border-radius: 0.25em;box-sizing: border-box;margin-bottom: 0.5em;}#sk-container-id-4 div.sk-estimator:hover {background-color: #d4ebff;}#sk-container-id-4 div.sk-parallel-item::after {content: \"\";width: 100%;border-bottom: 1px solid gray;flex-grow: 1;}#sk-container-id-4 div.sk-label:hover label.sk-toggleable__label {background-color: #d4ebff;}#sk-container-id-4 div.sk-serial::before {content: \"\";position: absolute;border-left: 1px solid gray;box-sizing: border-box;top: 0;bottom: 0;left: 50%;z-index: 0;}#sk-container-id-4 div.sk-serial {display: flex;flex-direction: column;align-items: center;background-color: white;padding-right: 0.2em;padding-left: 0.2em;position: relative;}#sk-container-id-4 div.sk-item {position: relative;z-index: 1;}#sk-container-id-4 div.sk-parallel {display: flex;align-items: stretch;justify-content: center;background-color: white;position: relative;}#sk-container-id-4 div.sk-item::before, #sk-container-id-4 div.sk-parallel-item::before {content: \"\";position: absolute;border-left: 1px solid gray;box-sizing: border-box;top: 0;bottom: 0;left: 50%;z-index: -1;}#sk-container-id-4 div.sk-parallel-item {display: flex;flex-direction: column;z-index: 1;position: relative;background-color: white;}#sk-container-id-4 div.sk-parallel-item:first-child::after {align-self: flex-end;width: 50%;}#sk-container-id-4 div.sk-parallel-item:last-child::after {align-self: flex-start;width: 50%;}#sk-container-id-4 div.sk-parallel-item:only-child::after {width: 0;}#sk-container-id-4 div.sk-dashed-wrapped {border: 1px dashed gray;margin: 0 0.4em 0.5em 0.4em;box-sizing: border-box;padding-bottom: 0.4em;background-color: white;}#sk-container-id-4 div.sk-label label {font-family: monospace;font-weight: bold;display: inline-block;line-height: 1.2em;}#sk-container-id-4 div.sk-label-container {text-align: center;}#sk-container-id-4 div.sk-container {/* jupyter's `normalize.less` sets `[hidden] { display: none; }` but bootstrap.min.css set `[hidden] { display: none !important; }` so we also need the `!important` here to be able to override the default hidden behavior on the sphinx rendered scikit-learn.org. See: https://github.com/scikit-learn/scikit-learn/issues/21755 */display: inline-block !important;position: relative;}#sk-container-id-4 div.sk-text-repr-fallback {display: none;}</style><div id=\"sk-container-id-4\" class=\"sk-top-container\"><div class=\"sk-text-repr-fallback\"><pre>KNeighborsClassifier()</pre><b>In a Jupyter environment, please rerun this cell to show the HTML representation or trust the notebook. <br />On GitHub, the HTML representation is unable to render, please try loading this page with nbviewer.org.</b></div><div class=\"sk-container\" hidden><div class=\"sk-item\"><div class=\"sk-estimator sk-toggleable\"><input class=\"sk-toggleable__control sk-hidden--visually\" id=\"sk-estimator-id-4\" type=\"checkbox\" checked><label for=\"sk-estimator-id-4\" class=\"sk-toggleable__label sk-toggleable__label-arrow\">KNeighborsClassifier</label><div class=\"sk-toggleable__content\"><pre>KNeighborsClassifier()</pre></div></div></div></div></div>"
      ],
      "text/plain": [
       "KNeighborsClassifier()"
      ]
     },
     "execution_count": 47,
     "metadata": {},
     "output_type": "execute_result"
    }
   ],
   "source": [
    "classifier = KNeighborsClassifier(n_neighbors=5)\n",
    "classifier.fit(x_train,y_train)"
   ]
  },
  {
   "cell_type": "code",
   "execution_count": 48,
   "id": "78b44030-f286-47ca-8276-15c7902157ef",
   "metadata": {},
   "outputs": [],
   "source": [
    "preds = classifier.predict(x_test)"
   ]
  },
  {
   "cell_type": "code",
   "execution_count": 49,
   "id": "6924f430-9411-4a41-89be-c6743985d9dc",
   "metadata": {},
   "outputs": [
    {
     "name": "stdout",
     "output_type": "stream",
     "text": [
      "Confusion matrix: \n",
      "[[113  21]\n",
      " [ 21  68]]\n"
     ]
    }
   ],
   "source": [
    "print(f\"Confusion matrix: \\n{confusion_matrix(y_test,preds)}\")"
   ]
  },
  {
   "cell_type": "code",
   "execution_count": 50,
   "id": "25918f62-19b0-40e6-803f-e0feee549843",
   "metadata": {},
   "outputs": [
    {
     "name": "stdout",
     "output_type": "stream",
     "text": [
      "Accuracy scorre: \n",
      "0.8116591928251121\n"
     ]
    }
   ],
   "source": [
    "print(f\"Accuracy scorre: \\n{accuracy_score(y_test,preds)}\")"
   ]
  },
  {
   "cell_type": "code",
   "execution_count": 51,
   "id": "1c5dede1-ff16-49ee-87c5-bd93dd425101",
   "metadata": {},
   "outputs": [],
   "source": [
    "results = pd.DataFrame({\n",
    "    \"Name\":names_test,\n",
    "    \"Actual\":y_test.values,\n",
    "    \"Predicted\":preds,\n",
    "})"
   ]
  },
  {
   "cell_type": "code",
   "execution_count": 52,
   "id": "d98e0e71-7f02-4e41-8612-b4f0699313e7",
   "metadata": {},
   "outputs": [
    {
     "name": "stdout",
     "output_type": "stream",
     "text": [
      "Survived and Predicted:\n",
      "Survived correct: 68\n",
      "Name: Harper, Miss. Annie Jessie \"Nina\"\n",
      "Name: Barber, Miss. Ellen \"Nellie\"\n",
      "Name: Kelly, Miss. Anna Katherine \"Annie Kate\"\n",
      "Name: Carr, Miss. Helen \"Ellen\"\n",
      "Name: Newsom, Miss. Helen Monypeny\n",
      "Name: Lines, Miss. Mary Conover\n",
      "Name: O'Leary, Miss. Hanora \"Norah\"\n",
      "Name: Seward, Mr. Frederic Kimber\n",
      "Name: Nysten, Miss. Anna Sofia\n",
      "Name: Madigan, Miss. Margaret \"Maggie\"\n",
      "Name: Serepeca, Miss. Augusta\n",
      "Name: Baclini, Miss. Marie Catherine\n",
      "Name: Hays, Mrs. Charles Melville (Clara Jennings Gregg)\n",
      "Name: Carter, Master. William Thornton II\n",
      "Name: Taussig, Miss. Ruth\n",
      "Name: Baxter, Mrs. James (Helene DeLaudeniere Chaput)\n",
      "Name: Cameron, Miss. Clear Annie\n",
      "Name: Devaney, Miss. Margaret Delia\n",
      "Name: Mellinger, Miss. Madeleine Violet\n",
      "Name: Clarke, Mrs. Charles V (Ada Maria Winfield)\n",
      "Name: Stephenson, Mrs. Walter Bertram (Martha Eustis)\n",
      "Name: Ryerson, Miss. Emily Borie\n",
      "Name: Behr, Mr. Karl Howell\n",
      "Name: Compton, Miss. Sara Rebecca\n",
      "Name: Frolicher, Miss. Hedwig Margaritha\n",
      "Name: Nye, Mrs. (Elizabeth Ramell)\n",
      "Name: Spedden, Mrs. Frederic Oakley (Margaretta Corning Stone)\n",
      "Name: Newell, Miss. Madeleine\n",
      "Name: Francatelli, Miss. Laura Mabel\n",
      "Name: Goldsmith, Master. Frank John William \"Frankie\"\n",
      "Name: Ball, Mrs. (Ada E Hall)\n",
      "Name: Bishop, Mrs. Dickinson H (Helen Walton)\n",
      "Name: Brown, Mrs. Thomas William Solomon (Elizabeth Catherine Ford)\n",
      "Name: Taylor, Mrs. Elmer Zebley (Juliet Cummins Wright)\n",
      "Name: Goldenberg, Mrs. Samuel L (Edwiga Grabowska)\n",
      "Name: McGough, Mr. James Robert\n",
      "Name: Caldwell, Mrs. Albert Francis (Sylvia Mae Harbaugh)\n",
      "Name: Bazzani, Miss. Albina\n",
      "Name: Andrews, Miss. Kornelia Theodosia\n",
      "Name: Caldwell, Master. Alden Gates\n",
      "Name: Leader, Dr. Alice (Farnham)\n",
      "Name: Mockler, Miss. Helen Mary \"Ellie\"\n",
      "Name: Duff Gordon, Sir. Cosmo Edmund (\"Mr Morgan\")\n",
      "Name: Fleming, Miss. Margaret\n",
      "Name: Drew, Mrs. James Vivian (Lulu Thorne Christian)\n",
      "Name: Spencer, Mrs. William Augustus (Marie Eugenie)\n",
      "Name: Moran, Miss. Bertha\n",
      "Name: Foo, Mr. Choong\n",
      "Name: McDermott, Miss. Brigdet Delia\n",
      "Name: Angle, Mrs. William A (Florence \"Mary\" Agnes Hughes)\n",
      "Name: Meyer, Mrs. Edgar Joseph (Leila Saks)\n",
      "Name: Kenyon, Mrs. Frederick R (Marion)\n",
      "Name: Greenfield, Mr. William Bertram\n",
      "Name: Silven, Miss. Lyyli Karoliina\n",
      "Name: Flynn, Mr. John Irwin (\"Irving\")\n",
      "Name: Ilett, Miss. Bertha\n",
      "Name: Sandstrom, Miss. Marguerite Rut\n",
      "Name: Bystrom, Mrs. (Karolina)\n",
      "Name: Parrish, Mrs. (Lutie Davis)\n",
      "Name: Hoyt, Mrs. Frederick Maxfield (Jane Anne Forby)\n",
      "Name: Endres, Miss. Caroline Louise\n",
      "Name: Dick, Mrs. Albert Adrian (Vera Gillespie)\n",
      "Name: Hart, Miss. Eva Miriam\n",
      "Name: Turkula, Mrs. (Hedwig)\n",
      "Name: Peter, Mrs. Catherine (Catherine Rizk)\n",
      "Name: Minahan, Miss. Daisy E\n",
      "Name: Christy, Miss. Julie Rachel\n",
      "Name: Shelley, Mrs. William (Imanita Parrish Hall)\n"
     ]
    }
   ],
   "source": [
    "print(\"Survived and Predicted:\")\n",
    "survived_correct = results[(results['Actual'] == 1) & (results['Predicted'] == 1)]\n",
    "print(f\"Survived correct: {len(survived_correct)}\")\n",
    "for name in survived_correct['Name'].values:\n",
    "    print(f\"Name: {name}\")"
   ]
  },
  {
   "cell_type": "code",
   "execution_count": 54,
   "id": "1bb95e2f-7371-44af-b47a-67fdc418c35c",
   "metadata": {},
   "outputs": [
    {
     "name": "stdout",
     "output_type": "stream",
     "text": [
      "Not Survived and Predicted:\n",
      "Survived correct: 113\n",
      "Name: Kvillner, Mr. Johan Henrik Johannesson\n",
      "Name: Alhomaki, Mr. Ilmari Rudolf\n",
      "Name: Vander Planke, Mr. Leo Edmondus\n",
      "Name: Futrelle, Mr. Jacques Heath\n",
      "Name: Kelly, Mr. James\n",
      "Name: Lefebre, Miss. Jeannie\n",
      "Name: Attalah, Mr. Sleiman\n",
      "Name: Fox, Mr. Stanley Hubert\n",
      "Name: Montvila, Rev. Juozas\n",
      "Name: Porter, Mr. Walter Chamberlain\n",
      "Name: Mineff, Mr. Ivan\n",
      "Name: Olsvigen, Mr. Thor Anderson\n",
      "Name: Risien, Mr. Samuel Beard\n",
      "Name: Skoog, Master. Karl Thorsten\n",
      "Name: Uruchurtu, Don. Manuel E\n",
      "Name: Skoog, Master. Harald\n",
      "Name: Petroff, Mr. Nedelio\n",
      "Name: Hoyt, Mr. William Fisher\n",
      "Name: Harknett, Miss. Alice Phoebe\n",
      "Name: Yasbeck, Mr. Antoni\n",
      "Name: Nankoff, Mr. Minko\n",
      "Name: Hickman, Mr. Stanley George\n",
      "Name: Braund, Mr. Lewis Richard\n",
      "Name: Sirota, Mr. Maurice\n",
      "Name: Keane, Mr. Andrew \"Andy\"\n",
      "Name: Ford, Mr. William Neal\n",
      "Name: Crease, Mr. Ernest James\n",
      "Name: Odahl, Mr. Nils Martin\n",
      "Name: Ali, Mr. Ahmed\n",
      "Name: Newell, Mr. Arthur Webster\n",
      "Name: Skoog, Mr. Wilhelm\n",
      "Name: Duane, Mr. Frank\n",
      "Name: Jenkin, Mr. Stephen Curnow\n",
      "Name: Birkeland, Mr. Hans Martin Monsen\n",
      "Name: Baumann, Mr. John D\n",
      "Name: Mernagh, Mr. Robert\n",
      "Name: Hood, Mr. Ambrose Jr\n",
      "Name: Zimmerman, Mr. Leo\n",
      "Name: Elias, Mr. Joseph Jr\n",
      "Name: Augustsson, Mr. Albert\n",
      "Name: Lindell, Mr. Edvard Bengtsson\n",
      "Name: Panula, Mr. Ernesti Arvid\n",
      "Name: Kilgannon, Mr. Thomas J\n",
      "Name: Smith, Mr. James Clinch\n",
      "Name: Reuchlin, Jonkheer. John George\n",
      "Name: Reed, Mr. James George\n",
      "Name: Andersson, Miss. Ingeborg Constanzia\n",
      "Name: Sutton, Mr. Frederick\n",
      "Name: Sadlier, Mr. Matthew\n",
      "Name: Staneff, Mr. Ivan\n",
      "Name: Olsson, Mr. Nils Johan Goransson\n",
      "Name: Nicholson, Mr. Arthur Ernest\n",
      "Name: Rintamaki, Mr. Matti\n",
      "Name: Goncalves, Mr. Manuel Estanslas\n",
      "Name: Tomlin, Mr. Ernest Portage\n",
      "Name: Petterson, Mr. Johan Emil\n",
      "Name: Gee, Mr. Arthur H\n",
      "Name: Lovell, Mr. John Hall (\"Henry\")\n",
      "Name: Gustafsson, Mr. Alfred Ossian\n",
      "Name: Levy, Mr. Rene Jacques\n",
      "Name: Hocking, Mr. Richard George\n",
      "Name: Harmer, Mr. Abraham (David Lishin)\n",
      "Name: Caram, Mrs. Joseph (Maria Elias)\n",
      "Name: Stanley, Mr. Edward Roland\n",
      "Name: Frost, Mr. Anthony Wood \"Archie\"\n",
      "Name: Larsson, Mr. Bengt Edvin\n",
      "Name: Abbing, Mr. Anthony\n",
      "Name: Kalvik, Mr. Johannes Halvorsen\n",
      "Name: Collander, Mr. Erik Gustaf\n",
      "Name: Chapman, Mr. John Henry\n",
      "Name: Rice, Mrs. William (Margaret Norton)\n",
      "Name: Givard, Mr. Hans Kristensen\n",
      "Name: Wheadon, Mr. Edward H\n",
      "Name: Cook, Mr. Jacob\n",
      "Name: Paulner, Mr. Uscher\n",
      "Name: Coleff, Mr. Satio\n",
      "Name: Fischer, Mr. Eberhard Thelander\n",
      "Name: Moutal, Mr. Rahamin Haim\n",
      "Name: Jardin, Mr. Jose Neto\n",
      "Name: Hanna, Mr. Mansour\n",
      "Name: Meyer, Mr. August\n",
      "Name: Moran, Mr. James\n",
      "Name: Ostby, Mr. Engelhart Cornelius\n",
      "Name: Pain, Dr. Alfred\n",
      "Name: Vovk, Mr. Janko\n",
      "Name: Asim, Mr. Adola\n",
      "Name: Kallio, Mr. Nikolai Erland\n",
      "Name: Elias, Mr. Dibo\n",
      "Name: Partner, Mr. Austen\n",
      "Name: Berriman, Mr. William John\n",
      "Name: Hansen, Mr. Henrik Juul\n",
      "Name: Andersson, Miss. Ebba Iris Alfrida\n",
      "Name: Butt, Major. Archibald Willingham\n",
      "Name: del Carlo, Mr. Sebastiano\n",
      "Name: Todoroff, Mr. Lalio\n",
      "Name: Van Impe, Mr. Jean Baptiste\n",
      "Name: Hunt, Mr. George Henry\n",
      "Name: Jensen, Mr. Svend Lauritz\n",
      "Name: Ponesell, Mr. Martin\n",
      "Name: Andersson, Miss. Sigrid Elisabeth\n",
      "Name: Nysveen, Mr. Johan Hansen\n",
      "Name: Larsson, Mr. August Viktor\n",
      "Name: Yousseff, Mr. Gerious\n",
      "Name: Rouse, Mr. Richard Henry\n",
      "Name: Widener, Mr. Harry Elkins\n",
      "Name: Adahl, Mr. Mauritz Nils Martin\n",
      "Name: Scanlan, Mr. James\n",
      "Name: Lefebre, Miss. Ida\n",
      "Name: Palsson, Master. Gosta Leonard\n",
      "Name: Williams, Mr. Charles Duane\n",
      "Name: Wiseman, Mr. Phillippe\n",
      "Name: Petroff, Mr. Pastcho (\"Pentcho\")\n",
      "Name: Rosblom, Mr. Viktor Richard\n"
     ]
    }
   ],
   "source": [
    "print(\"Not Survived and Predicted:\")\n",
    "survived_correct = results[(results['Actual'] == 0) & (results['Predicted'] == 0)]\n",
    "print(f\"Survived correct: {len(survived_correct)}\")\n",
    "for name in survived_correct['Name'].values:\n",
    "    print(f\"Name: {name}\")"
   ]
  },
  {
   "cell_type": "code",
   "execution_count": 55,
   "id": "e2b97f98-2091-41b1-8c8d-efef6a1f2056",
   "metadata": {},
   "outputs": [
    {
     "name": "stdout",
     "output_type": "stream",
     "text": [
      "Survived and Predicted incorrectly\n",
      "Survived correct: 21\n",
      "Name: Moubarek, Master. Halim Gonios (\"William George\")\n",
      "Name: Nicola-Yarred, Miss. Jamila\n",
      "Name: Kimball, Mr. Edwin Nelson Jr\n",
      "Name: Andersen-Jensen, Miss. Carla Christine Nielsine\n",
      "Name: Wilhelms, Mr. Charles\n",
      "Name: Cohen, Mr. Gurshon \"Gus\"\n",
      "Name: Sloper, Mr. William Thompson\n",
      "Name: Taylor, Mr. Elmer Zebley\n",
      "Name: Dahl, Mr. Karl Edwart\n",
      "Name: de Mulder, Mr. Theodore\n",
      "Name: Blank, Mr. Henry\n",
      "Name: Homer, Mr. Harry (\"Mr E Haven\")\n",
      "Name: Moubarek, Master. Gerios\n",
      "Name: Emanuel, Miss. Virginia Ethel\n",
      "Name: Yasbeck, Mrs. Antoni (Selini Alexander)\n",
      "Name: Bradley, Mr. George (\"George Arthur Brayton\")\n",
      "Name: Asplund, Mrs. Carl Oscar (Selma Augusta Emilia Johansson)\n",
      "Name: Woolner, Mr. Hugh\n",
      "Name: Sheerlinck, Mr. Jan Baptist\n",
      "Name: Barah, Mr. Hanna Assi\n",
      "Name: Carter, Mr. William Ernest\n"
     ]
    }
   ],
   "source": [
    "print(\"Survived and Predicted incorrectly\")\n",
    "survived_correct = results[(results['Actual'] == 1) & (results['Predicted'] == 0)]\n",
    "print(f\"Survived correct: {len(survived_correct)}\")\n",
    "for name in survived_correct['Name'].values:\n",
    "    print(f\"Name: {name}\")"
   ]
  },
  {
   "cell_type": "code",
   "execution_count": 56,
   "id": "41977209-6544-4dd3-b145-d9750add3324",
   "metadata": {},
   "outputs": [
    {
     "name": "stdout",
     "output_type": "stream",
     "text": [
      "Survived and Predicted incorrectly\n",
      "Survived correct: 21\n",
      "Name: Olsson, Miss. Elina\n",
      "Name: Barbara, Mrs. (Catherine David)\n",
      "Name: Mack, Mrs. (Mary)\n",
      "Name: Lahtinen, Mrs. William (Anna Sylfven)\n",
      "Name: Mangan, Miss. Mary\n",
      "Name: Funk, Miss. Annie Clemmer\n",
      "Name: Rosblom, Mrs. Viktor (Helena Wilhelmina)\n",
      "Name: Artagaveytia, Mr. Ramon\n",
      "Name: Danoff, Mr. Yoto\n",
      "Name: Farthing, Mr. John\n",
      "Name: Goldschmidt, Mr. George B\n",
      "Name: Ford, Mrs. Edward (Margaret Ann Watson)\n",
      "Name: Giglio, Mr. Victor\n",
      "Name: Arnold-Franchi, Mrs. Josef (Josefine Franchi)\n",
      "Name: Carter, Mrs. Ernest Courtenay (Lilian Hughes)\n",
      "Name: Bourke, Mrs. John (Catherine)\n",
      "Name: Boulos, Miss. Nourelain\n",
      "Name: Tikkanen, Mr. Juho\n",
      "Name: Baxter, Mr. Quigg Edmond\n",
      "Name: Cacic, Miss. Marija\n",
      "Name: Yrois, Miss. Henriette (\"Mrs Harbeck\")\n"
     ]
    }
   ],
   "source": [
    "print(\"Survived and Predicted incorrectly\")\n",
    "survived_correct = results[(results['Actual'] == 0) & (results['Predicted'] == 1)]\n",
    "print(f\"Survived correct: {len(survived_correct)}\")\n",
    "for name in survived_correct['Name'].values:\n",
    "    print(f\"Name: {name}\")"
   ]
  },
  {
   "cell_type": "code",
   "execution_count": null,
   "id": "2e076742-7035-4251-ac98-a7c6094c3ab0",
   "metadata": {},
   "outputs": [],
   "source": []
  }
 ],
 "metadata": {
  "kernelspec": {
   "display_name": "anaconda-2024.02-py310",
   "language": "python",
   "name": "conda-env-anaconda-2024.02-py310-py"
  },
  "language_info": {
   "codemirror_mode": {
    "name": "ipython",
    "version": 3
   },
   "file_extension": ".py",
   "mimetype": "text/x-python",
   "name": "python",
   "nbconvert_exporter": "python",
   "pygments_lexer": "ipython3",
   "version": "3.10.14"
  }
 },
 "nbformat": 4,
 "nbformat_minor": 5
}
