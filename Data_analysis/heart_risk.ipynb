{
 "cells": [
  {
   "cell_type": "code",
   "execution_count": 1,
   "id": "e5219f3f-1f80-4059-9bf3-93bc0c309ad7",
   "metadata": {},
   "outputs": [],
   "source": [
    "import pandas as pd\n",
    "df = pd.read_csv('heart_disease_risk_dataset_earlymed.csv')"
   ]
  },
  {
   "cell_type": "code",
   "execution_count": 2,
   "id": "1c145a6c-4334-4fa1-846d-95a82edb2567",
   "metadata": {},
   "outputs": [
    {
     "name": "stdout",
     "output_type": "stream",
     "text": [
      "<class 'pandas.core.frame.DataFrame'>\n",
      "RangeIndex: 70000 entries, 0 to 69999\n",
      "Data columns (total 19 columns):\n",
      " #   Column               Non-Null Count  Dtype  \n",
      "---  ------               --------------  -----  \n",
      " 0   Chest_Pain           70000 non-null  float64\n",
      " 1   Shortness_of_Breath  70000 non-null  float64\n",
      " 2   Fatigue              70000 non-null  float64\n",
      " 3   Palpitations         70000 non-null  float64\n",
      " 4   Dizziness            70000 non-null  float64\n",
      " 5   Swelling             70000 non-null  float64\n",
      " 6   Pain_Arms_Jaw_Back   70000 non-null  float64\n",
      " 7   Cold_Sweats_Nausea   70000 non-null  float64\n",
      " 8   High_BP              70000 non-null  float64\n",
      " 9   High_Cholesterol     70000 non-null  float64\n",
      " 10  Diabetes             70000 non-null  float64\n",
      " 11  Smoking              70000 non-null  float64\n",
      " 12  Obesity              70000 non-null  float64\n",
      " 13  Sedentary_Lifestyle  70000 non-null  float64\n",
      " 14  Family_History       70000 non-null  float64\n",
      " 15  Chronic_Stress       70000 non-null  float64\n",
      " 16  Gender               70000 non-null  float64\n",
      " 17  Age                  70000 non-null  float64\n",
      " 18  Heart_Risk           70000 non-null  float64\n",
      "dtypes: float64(19)\n",
      "memory usage: 10.1 MB\n"
     ]
    }
   ],
   "source": [
    "df.info()"
   ]
  },
  {
   "cell_type": "code",
   "execution_count": 3,
   "id": "0f28bde5-e730-4230-905f-72b5a895af12",
   "metadata": {},
   "outputs": [],
   "source": [
    "def convert(value):\n",
    "    return int(value)\n",
    "for i in df:\n",
    "    df[i] = df[i].apply(convert)"
   ]
  },
  {
   "cell_type": "code",
   "execution_count": 4,
   "id": "6712fd6a-3b90-41d3-ab0a-4484b856d747",
   "metadata": {},
   "outputs": [
    {
     "data": {
      "text/plain": [
       "Heart_Risk\n",
       "0    35000\n",
       "1    35000\n",
       "Name: count, dtype: int64"
      ]
     },
     "execution_count": 4,
     "metadata": {},
     "output_type": "execute_result"
    }
   ],
   "source": [
    "df['Heart_Risk'].value_counts()"
   ]
  },
  {
   "cell_type": "code",
   "execution_count": 5,
   "id": "51eb8044-08d6-4c08-818b-aae74ab7e9ef",
   "metadata": {},
   "outputs": [],
   "source": [
    "# Chest Pain – Ko‘krak qismida og‘riq Yurak kasalligi xavfi bor  [T] + \n",
    "# Shortness of Breath – Nafas qisishi Yurak kasalligi xavfi bor  [T] + \n",
    "# Fatigue – Charchoq yuqori bolgan insonlarda Yurak kasalligi xavfi bor [T] + \n",
    "# Palpitations – Yurak urishining tezlashishi (yurak aritmiyasi) [T] + \n",
    "# Dizziness – Bosh aylanishi   [T] + \n",
    "# Swelling – Shish (tanada suyuqlik yig‘ilishi) [T] + \n",
    "# Pain Arms/Jaw/Back – Qo‘l, jag‘ yoki orqada og‘riq  [T] + \n",
    "# Cold Sweats/Nausea – Sovuq terlash yoki ko‘ngil aynishi [T] +\n",
    "# High BP (High Blood Pressure) – Yuqori qon bosimi\n",
    "# High Cholesterol – Yuqori xolesterin\n",
    "# Diabetes – Qandli diabet\n",
    "# Smoking – Chekish\n",
    "# Obesity – Semizlik\n",
    "# Sedentary Lifestyle – Harakatsiz turmush tarzi\n",
    "# Family History – Oilaviy anamnez (o‘tgan avlodlarda bo‘lgan kasalliklar)\n",
    "# Chronic Stress – Doimiy stress\n",
    "# Gender – Jins\n",
    "# Age – Yosh\n",
    "# Heart Risk – Yurak kasalligi xavfi"
   ]
  },
  {
   "cell_type": "code",
   "execution_count": 6,
   "id": "0b36d013-0813-4650-bfc9-846284c6366d",
   "metadata": {},
   "outputs": [
    {
     "data": {
      "text/plain": [
       "Chest_Pain  Heart_Risk\n",
       "0           0             28026\n",
       "            1              7028\n",
       "1           1             27972\n",
       "            0              6974\n",
       "Name: count, dtype: int64"
      ]
     },
     "execution_count": 6,
     "metadata": {},
     "output_type": "execute_result"
    }
   ],
   "source": [
    "# G-1 Chest Pain – Ko‘krak qismida og‘riq Yurak kasalligi xavfi bor \n",
    "total = df[['Chest_Pain', 'Heart_Risk']]\n",
    "total.groupby(by=['Chest_Pain'])['Heart_Risk'].value_counts()"
   ]
  },
  {
   "cell_type": "code",
   "execution_count": 7,
   "id": "76227c17-4225-40dc-94c2-4fe4ac5a146c",
   "metadata": {},
   "outputs": [
    {
     "data": {
      "text/plain": [
       "7028"
      ]
     },
     "execution_count": 7,
     "metadata": {},
     "output_type": "execute_result"
    }
   ],
   "source": [
    "no_pain = total[(total['Chest_Pain'] == 0) & (total['Heart_Risk'] == 1)]['Chest_Pain'].count()\n",
    "no_pain"
   ]
  },
  {
   "cell_type": "code",
   "execution_count": 8,
   "id": "c31561bd-7700-43d5-8837-0a29063046a0",
   "metadata": {},
   "outputs": [
    {
     "data": {
      "text/plain": [
       "27972"
      ]
     },
     "execution_count": 8,
     "metadata": {},
     "output_type": "execute_result"
    }
   ],
   "source": [
    "have_pain = total[(total['Chest_Pain'] == 1) & (total['Heart_Risk'] == 1)]['Chest_Pain'].count()\n",
    "have_pain"
   ]
  },
  {
   "cell_type": "code",
   "execution_count": 9,
   "id": "61170510-a2fb-4773-ace7-e21f83b97196",
   "metadata": {},
   "outputs": [
    {
     "name": "stdout",
     "output_type": "stream",
     "text": [
      "No Chest_Pain: 10.04  Heart_Risk (1)\n",
      "Have Chest_Pain: 39.96  Heart_Risk (1)\n"
     ]
    }
   ],
   "source": [
    "res = df['Heart_Risk'].count() # 70000\n",
    "print(f\"No Chest_Pain: {(no_pain*100) / res}  Heart_Risk (1)\")\n",
    "print(f\"Have Chest_Pain: {(have_pain*100) / res}  Heart_Risk (1)\")\n",
    "# Chest_Pain bor odamlarning :\n",
    "# 10.04 % Yurak kasalligi xavfi bor\n",
    "# 39.96 % Yurak kasalligi xavfi bor\n",
    "# Keep column"
   ]
  },
  {
   "cell_type": "code",
   "execution_count": null,
   "id": "34b2625d-893c-482f-9df3-a6ebc1c7c2f8",
   "metadata": {},
   "outputs": [],
   "source": []
  },
  {
   "cell_type": "code",
   "execution_count": 10,
   "id": "5d7c527f-67cc-43f3-8ff8-21daebe6f371",
   "metadata": {},
   "outputs": [
    {
     "data": {
      "text/plain": [
       "Shortness_of_Breath  Heart_Risk\n",
       "0                    0             27958\n",
       "                     1              7001\n",
       "1                    1             27999\n",
       "                     0              7042\n",
       "Name: count, dtype: int64"
      ]
     },
     "execution_count": 10,
     "metadata": {},
     "output_type": "execute_result"
    }
   ],
   "source": [
    "# G-2 Shortness of Breath – Nafas qisishi\n",
    "total = df[['Shortness_of_Breath', 'Heart_Risk']]\n",
    "total.groupby(by=['Shortness_of_Breath'])['Heart_Risk'].value_counts()"
   ]
  },
  {
   "cell_type": "code",
   "execution_count": 11,
   "id": "95723943-661f-4ec5-a243-74e2c04b1958",
   "metadata": {},
   "outputs": [
    {
     "data": {
      "text/plain": [
       "7001"
      ]
     },
     "execution_count": 11,
     "metadata": {},
     "output_type": "execute_result"
    }
   ],
   "source": [
    "No_Shortness_of_Breath = total[(total['Shortness_of_Breath'] == 0) & (total['Heart_Risk'] == 1)]['Shortness_of_Breath'].count()\n",
    "No_Shortness_of_Breath"
   ]
  },
  {
   "cell_type": "code",
   "execution_count": 12,
   "id": "d10e7635-408a-40ca-837f-88097e7c66b8",
   "metadata": {},
   "outputs": [
    {
     "data": {
      "text/plain": [
       "27999"
      ]
     },
     "execution_count": 12,
     "metadata": {},
     "output_type": "execute_result"
    }
   ],
   "source": [
    "Have_Shortness_of_Breath = total[(total['Shortness_of_Breath'] == 1) & (total['Heart_Risk'] == 1)]['Shortness_of_Breath'].count()\n",
    "Have_Shortness_of_Breath"
   ]
  },
  {
   "cell_type": "code",
   "execution_count": 13,
   "id": "3f68defc-c5b7-4f27-a64c-47d20eb7ccfc",
   "metadata": {},
   "outputs": [
    {
     "name": "stdout",
     "output_type": "stream",
     "text": [
      "No Shortness_of_Breath: 10.001428571428571 Heart_Risk (1)\n",
      "Have Shortness_of_Breath: 39.99857142857143 Heart_Risk (1)\n"
     ]
    }
   ],
   "source": [
    "res = df['Heart_Risk'].count() # 70000\n",
    "print(f\"No Shortness_of_Breath: {(No_Shortness_of_Breath*100) / res} Heart_Risk (1)\")\n",
    "print(f\"Have Shortness_of_Breath: {(Have_Shortness_of_Breath*100) / res} Heart_Risk (1)\")\n",
    "# Shortness_of_Breath bor odamlarning :\n",
    "# 39.99857142857143 % Yurak kasalligi xavfi bor\n",
    "# 39.99857142857143 % Yurak kasalligi xavfi bor    \n",
    "# Drop == column"
   ]
  },
  {
   "cell_type": "code",
   "execution_count": 14,
   "id": "b5ded775-ac2b-47ec-804c-a562b0f59f3f",
   "metadata": {},
   "outputs": [
    {
     "data": {
      "text/plain": [
       "Fatigue  Heart_Risk\n",
       "0        0             28037\n",
       "         1              7063\n",
       "1        1             27937\n",
       "         0              6963\n",
       "Name: count, dtype: int64"
      ]
     },
     "execution_count": 14,
     "metadata": {},
     "output_type": "execute_result"
    }
   ],
   "source": [
    "# G-3 Fatigue – Charchoq yuqori bolgan insonlarda Yurak kasalligi xavfi bor \n",
    "total = df[['Fatigue', 'Heart_Risk']]\n",
    "total.groupby(by=['Fatigue'])['Heart_Risk'].value_counts()"
   ]
  },
  {
   "cell_type": "code",
   "execution_count": 15,
   "id": "c96a56b5-091f-446e-8baf-8eb2aa5fbd45",
   "metadata": {},
   "outputs": [
    {
     "name": "stdout",
     "output_type": "stream",
     "text": [
      "No Fatigue: 10.09 Heart_Risk (1)\n",
      "Have Fatigue: 39.91 Heart_Risk (1)\n"
     ]
    }
   ],
   "source": [
    "No_Fatigue = total[(total['Fatigue'] == 0) & (total['Heart_Risk'] == 1)]['Fatigue'].count()\n",
    "Have_Fatigue = total[(total['Fatigue'] == 1) & (total['Heart_Risk'] == 1)]['Fatigue'].count()\n",
    "res = df['Heart_Risk'].count() # 70000\n",
    "print(f\"No Fatigue: {(No_Fatigue*100) / res} Heart_Risk (1)\")\n",
    "print(f\"Have Fatigue: {(Have_Fatigue*100) / res} Heart_Risk (1)\")\n",
    "# Fatigue bor odamlarning :\n",
    "# 10 % Yurak kasalligi xavfi bor\n",
    "# 39.991 % Yurak kasalligi xavfi bor    \n",
    "# Keep == column"
   ]
  },
  {
   "cell_type": "code",
   "execution_count": 16,
   "id": "e2d8bb9e-064e-4723-ac6e-442a54ee877e",
   "metadata": {},
   "outputs": [
    {
     "name": "stdout",
     "output_type": "stream",
     "text": [
      "No Palpitations: 10.144285714285715 Heart_Risk (1)\n",
      "Have Palpitations: 39.855714285714285 Heart_Risk (1)\n"
     ]
    }
   ],
   "source": [
    "#  G-4 Palpitations – Yurak urishining tezlashishi (yurak aritmiyasi)\n",
    "res = df['Heart_Risk'].count() # 70000\n",
    "total = df[['Palpitations', 'Heart_Risk']]\n",
    "total.groupby(by=['Palpitations'])['Heart_Risk'].value_counts()\n",
    "No_Palpitations = total[(total['Palpitations'] == 0) & (total['Heart_Risk'] == 1)]['Palpitations'].count()\n",
    "Have_Palpitations = total[(total['Palpitations'] == 1) & (total['Heart_Risk'] == 1)]['Palpitations'].count()\n",
    "print(f\"No Palpitations: {(No_Palpitations*100) / res} Heart_Risk (1)\")\n",
    "print(f\"Have Palpitations: {(Have_Palpitations*100) / res} Heart_Risk (1)\")\n",
    "# Palpitations bor odamlarning :\n",
    "# 10 % Yurak kasalligi xavfi bor\n",
    "# 39 % Yurak kasalligi xavfi bor\n",
    "# Keep == column"
   ]
  },
  {
   "cell_type": "code",
   "execution_count": 17,
   "id": "1b59b9ee-0cc1-4dfb-8a26-600d91f66845",
   "metadata": {},
   "outputs": [
    {
     "name": "stdout",
     "output_type": "stream",
     "text": [
      "No Dizziness: 9.924285714285714 Heart_Risk (1)\n",
      "Have Dizziness: 40.075714285714284 Heart_Risk (1)\n"
     ]
    }
   ],
   "source": [
    "# G-5 Dizziness – Bosh aylanishi\n",
    "res = df['Heart_Risk'].count() # 70000\n",
    "total = df[['Dizziness', 'Heart_Risk']]\n",
    "total.groupby(by=['Dizziness'])['Heart_Risk'].value_counts()\n",
    "No_Dizziness = total[(total['Dizziness'] == 0) & (total['Heart_Risk'] == 1)]['Dizziness'].count()\n",
    "Have_Dizziness = total[(total['Dizziness'] == 1) & (total['Heart_Risk'] == 1)]['Dizziness'].count()\n",
    "print(f\"No Dizziness: {(No_Dizziness*100) / res} Heart_Risk (1)\")\n",
    "print(f\"Have Dizziness: {(Have_Dizziness*100) / res} Heart_Risk (1)\")\n",
    "# Dizziness bor odamlarning :\n",
    "# 9 % Yurak kasalligi xavfi bor\n",
    "# 40 % Yurak kasalligi xavfi bor\n",
    "# Keep == column"
   ]
  },
  {
   "cell_type": "code",
   "execution_count": 18,
   "id": "f56902f3-085e-49d9-86c0-8e455da7c5d7",
   "metadata": {},
   "outputs": [
    {
     "name": "stdout",
     "output_type": "stream",
     "text": [
      "No Swelling: 10.074285714285715 Heart_Risk (1)\n",
      "Have Swelling: 39.925714285714285 Heart_Risk (1)\n"
     ]
    }
   ],
   "source": [
    "# G-6 Swelling – Shish (tanada suyuqlik yig‘ilishi)\n",
    "res = df['Heart_Risk'].count() # 70000\n",
    "total = df[['Swelling', 'Heart_Risk']]\n",
    "total.groupby(by=['Swelling'])['Heart_Risk'].value_counts()\n",
    "No_Swelling = total[(total['Swelling'] == 0) & (total['Heart_Risk'] == 1)]['Swelling'].count()\n",
    "Have_Swelling = total[(total['Swelling'] == 1) & (total['Heart_Risk'] == 1)]['Swelling'].count()\n",
    "print(f\"No Swelling: {(No_Swelling*100) / res} Heart_Risk (1)\")\n",
    "print(f\"Have Swelling: {(Have_Swelling*100) / res} Heart_Risk (1)\")\n",
    "# Swelling bor odamlarning :\n",
    "# 10 % Yurak kasalligi xavfi bor\n",
    "# 39.9 % Yurak kasalligi xavfi bor\n",
    "# Keep == column"
   ]
  },
  {
   "cell_type": "code",
   "execution_count": 19,
   "id": "eba95e4b-03ad-4b7a-88ca-c707b5e4acfb",
   "metadata": {},
   "outputs": [
    {
     "name": "stdout",
     "output_type": "stream",
     "text": [
      "No Pain_Arms_Jaw_Back: 9.89 Heart_Risk (1)\n",
      "Have Pain_Arms_Jaw_Back: 40.11 Heart_Risk (1)\n"
     ]
    }
   ],
   "source": [
    "# G-7 Pain Arms/Jaw/Back – Qo‘l, jag‘ yoki orqada og‘riq\n",
    "res = df['Heart_Risk'].count() # 70000\n",
    "total = df[['Pain_Arms_Jaw_Back', 'Heart_Risk']]\n",
    "total.groupby(by=['Pain_Arms_Jaw_Back'])['Heart_Risk'].value_counts()\n",
    "No_Pain_Arms_Jaw_Back = total[(total['Pain_Arms_Jaw_Back'] == 0) & (total['Heart_Risk'] == 1)]['Pain_Arms_Jaw_Back'].count()\n",
    "Have_Pain_Arms_Jaw_Back = total[(total['Pain_Arms_Jaw_Back'] == 1) & (total['Heart_Risk'] == 1)]['Pain_Arms_Jaw_Back'].count()\n",
    "print(f\"No Pain_Arms_Jaw_Back: {(No_Pain_Arms_Jaw_Back*100) / res} Heart_Risk (1)\")\n",
    "print(f\"Have Pain_Arms_Jaw_Back: {(Have_Pain_Arms_Jaw_Back*100) / res} Heart_Risk (1)\")\n",
    "# Pain_Arms_Jaw_Back bor odamlarning:\n",
    "# 9.89 % Yurak kasalligi xavfi bor\n",
    "# 40.11 % Yurak kasalligi xavfi bor\n",
    "# Keep == column"
   ]
  },
  {
   "cell_type": "code",
   "execution_count": 20,
   "id": "38311d64-a292-4be6-9b4f-882eb3af7d13",
   "metadata": {},
   "outputs": [
    {
     "name": "stdout",
     "output_type": "stream",
     "text": [
      "No_Cold_Sweats_Nausea: 9.85 Heart_Risk (1)\n",
      "Have_Cold_Sweats_Nausea: 40.15 Heart_Risk (1)\n"
     ]
    }
   ],
   "source": [
    "# G-7 Cold Sweats/Nausea – Sovuq terlash yoki ko‘ngil aynishi\n",
    "res = df['Heart_Risk'].count() # 70000\n",
    "total = df[['Cold_Sweats_Nausea', 'Heart_Risk']]\n",
    "total.groupby(by=['Cold_Sweats_Nausea'])['Heart_Risk'].value_counts()\n",
    "No_Cold_Sweats_Nausea = total[(total['Cold_Sweats_Nausea'] == 0) & (total['Heart_Risk'] == 1)]['Cold_Sweats_Nausea'].count()\n",
    "Have_Cold_Sweats_Nausea = total[(total['Cold_Sweats_Nausea'] == 1) & (total['Heart_Risk'] == 1)]['Cold_Sweats_Nausea'].count()\n",
    "print(f\"No_Cold_Sweats_Nausea: {(No_Cold_Sweats_Nausea*100) / res} Heart_Risk (1)\")\n",
    "print(f\"Have_Cold_Sweats_Nausea: {(Have_Cold_Sweats_Nausea*100) / res} Heart_Risk (1)\")\n",
    "# Cold_Sweats_Nausea bor odamlarning:\n",
    "# 9.85 % Yurak kasalligi xavfi bor\n",
    "# 40.15 % Yurak kasalligi xavfi bor\n",
    "# Keep == column"
   ]
  },
  {
   "cell_type": "code",
   "execution_count": 21,
   "id": "bd01cbbd-60ec-42cf-8a57-35fead3dd57f",
   "metadata": {},
   "outputs": [
    {
     "name": "stdout",
     "output_type": "stream",
     "text": [
      "No_Chest_Pain: 10.04% Heart_Risk (1)\n",
      "Have_Chest_Pain: 39.96% Heart_Risk (1)\n",
      "---\n",
      "No_Shortness_of_Breath: 10.00% Heart_Risk (1)\n",
      "Have_Shortness_of_Breath: 40.00% Heart_Risk (1)\n",
      "---\n",
      "No_Fatigue: 10.09% Heart_Risk (1)\n",
      "Have_Fatigue: 39.91% Heart_Risk (1)\n",
      "---\n",
      "No_Palpitations: 10.14% Heart_Risk (1)\n",
      "Have_Palpitations: 39.86% Heart_Risk (1)\n",
      "---\n",
      "No_Dizziness: 9.92% Heart_Risk (1)\n",
      "Have_Dizziness: 40.08% Heart_Risk (1)\n",
      "---\n",
      "No_Swelling: 10.07% Heart_Risk (1)\n",
      "Have_Swelling: 39.93% Heart_Risk (1)\n",
      "---\n",
      "No_Pain_Arms_Jaw_Back: 9.89% Heart_Risk (1)\n",
      "Have_Pain_Arms_Jaw_Back: 40.11% Heart_Risk (1)\n",
      "---\n",
      "No_Cold_Sweats_Nausea: 9.85% Heart_Risk (1)\n",
      "Have_Cold_Sweats_Nausea: 40.15% Heart_Risk (1)\n",
      "---\n",
      "No_High_BP: 15.02% Heart_Risk (1)\n",
      "Have_High_BP: 34.98% Heart_Risk (1)\n",
      "---\n",
      "No_High_Cholesterol: 14.91% Heart_Risk (1)\n",
      "Have_High_Cholesterol: 35.09% Heart_Risk (1)\n",
      "---\n",
      "No_Diabetes: 15.07% Heart_Risk (1)\n",
      "Have_Diabetes: 34.93% Heart_Risk (1)\n",
      "---\n",
      "No_Smoking: 14.90% Heart_Risk (1)\n",
      "Have_Smoking: 35.10% Heart_Risk (1)\n",
      "---\n",
      "No_Obesity: 15.06% Heart_Risk (1)\n",
      "Have_Obesity: 34.94% Heart_Risk (1)\n",
      "---\n",
      "No_Sedentary_Lifestyle: 14.71% Heart_Risk (1)\n",
      "Have_Sedentary_Lifestyle: 35.29% Heart_Risk (1)\n",
      "---\n",
      "No_Family_History: 15.18% Heart_Risk (1)\n",
      "Have_Family_History: 34.82% Heart_Risk (1)\n",
      "---\n",
      "No_Chronic_Stress: 14.95% Heart_Risk (1)\n",
      "Have_Chronic_Stress: 35.05% Heart_Risk (1)\n",
      "---\n",
      "No_Gender: 15.25% Heart_Risk (1)\n",
      "Have_Gender: 34.75% Heart_Risk (1)\n",
      "---\n",
      "No_Age: 0.00% Heart_Risk (1)\n",
      "Have_Age: 0.00% Heart_Risk (1)\n",
      "---\n"
     ]
    }
   ],
   "source": [
    "# aLL columns\n",
    "# yolo = []\n",
    "# for i in df:\n",
    "#     mo.append(i)\n",
    "# mo\n",
    "columns_to_check = ['Chest_Pain','Shortness_of_Breath','Fatigue','Palpitations','Dizziness','Swelling','Pain_Arms_Jaw_Back','Cold_Sweats_Nausea','High_BP','High_Cholesterol',\n",
    " 'Diabetes',\n",
    " 'Smoking',\n",
    " 'Obesity',\n",
    " 'Sedentary_Lifestyle',\n",
    " 'Family_History',\n",
    " 'Chronic_Stress',\n",
    " 'Gender',\n",
    " 'Age',]\n",
    "\n",
    "# Barcha ustunlar uchun yurak kasalligi xavfi (Heart_Risk == 1) hisoblash\n",
    "for column in columns_to_check:\n",
    "    total = df[[column, 'Heart_Risk']]\n",
    "    # \"Heart_Risk == 1\" uchun kerakli qiymatlarni hisoblash\n",
    "    No_condition = total[(total[column] == 0) & (total['Heart_Risk'] == 1)][column].count()\n",
    "    Have_condition = total[(total[column] == 1) & (total['Heart_Risk'] == 1)][column].count()\n",
    "    # Butun to'plamni hisoblash\n",
    "    res = df['Heart_Risk'].count()\n",
    "    # Natijalarni chiqarish\n",
    "    print(f\"No_{column}: {(No_condition * 100) / res:.2f}% Heart_Risk (1)\")\n",
    "    print(f\"Have_{column}: {(Have_condition * 100) / res:.2f}% Heart_Risk (1)\")\n",
    "    print('---')"
   ]
  },
  {
   "cell_type": "code",
   "execution_count": null,
   "id": "b7c7e431-a011-4bea-b324-56ac436c73cf",
   "metadata": {},
   "outputs": [],
   "source": []
  },
  {
   "cell_type": "code",
   "execution_count": 36,
   "id": "d0d58b24-7aa4-41b1-a354-57e0d8d76caf",
   "metadata": {},
   "outputs": [],
   "source": [
    "from sklearn.model_selection import train_test_split, cross_val_score\n",
    "from sklearn.preprocessing import StandardScaler\n",
    "from sklearn.neighbors import KNeighborsClassifier\n",
    "from sklearn.metrics import confusion_matrix, accuracy_score"
   ]
  },
  {
   "cell_type": "code",
   "execution_count": 37,
   "id": "bb7108eb-01c7-4a1d-a451-bd17461fd714",
   "metadata": {},
   "outputs": [],
   "source": [
    "x = df.drop('Heart_Risk', axis=1)\n",
    "y = df['Heart_Risk']"
   ]
  },
  {
   "cell_type": "code",
   "execution_count": 38,
   "id": "28465b04-1874-452f-8bee-85e81868032e",
   "metadata": {},
   "outputs": [],
   "source": [
    "x_train, x_test, y_train, y_test, = train_test_split(x, y, test_size=0.25, random_state=42)"
   ]
  },
  {
   "cell_type": "code",
   "execution_count": 39,
   "id": "b21d8b79-c063-4994-af68-0e997be3fae8",
   "metadata": {},
   "outputs": [],
   "source": [
    "sc = StandardScaler()"
   ]
  },
  {
   "cell_type": "code",
   "execution_count": 40,
   "id": "832c54de-96b0-4477-99a2-e72d58a9f9c7",
   "metadata": {},
   "outputs": [],
   "source": [
    "x_train = sc.fit_transform(x_train)\n",
    "x_test = sc.transform(x_test)"
   ]
  },
  {
   "cell_type": "code",
   "execution_count": 41,
   "id": "9a134bb1-9777-472d-8798-e7f12bad47bc",
   "metadata": {},
   "outputs": [
    {
     "data": {
      "text/html": [
       "<style>#sk-container-id-2 {color: black;}#sk-container-id-2 pre{padding: 0;}#sk-container-id-2 div.sk-toggleable {background-color: white;}#sk-container-id-2 label.sk-toggleable__label {cursor: pointer;display: block;width: 100%;margin-bottom: 0;padding: 0.3em;box-sizing: border-box;text-align: center;}#sk-container-id-2 label.sk-toggleable__label-arrow:before {content: \"▸\";float: left;margin-right: 0.25em;color: #696969;}#sk-container-id-2 label.sk-toggleable__label-arrow:hover:before {color: black;}#sk-container-id-2 div.sk-estimator:hover label.sk-toggleable__label-arrow:before {color: black;}#sk-container-id-2 div.sk-toggleable__content {max-height: 0;max-width: 0;overflow: hidden;text-align: left;background-color: #f0f8ff;}#sk-container-id-2 div.sk-toggleable__content pre {margin: 0.2em;color: black;border-radius: 0.25em;background-color: #f0f8ff;}#sk-container-id-2 input.sk-toggleable__control:checked~div.sk-toggleable__content {max-height: 200px;max-width: 100%;overflow: auto;}#sk-container-id-2 input.sk-toggleable__control:checked~label.sk-toggleable__label-arrow:before {content: \"▾\";}#sk-container-id-2 div.sk-estimator input.sk-toggleable__control:checked~label.sk-toggleable__label {background-color: #d4ebff;}#sk-container-id-2 div.sk-label input.sk-toggleable__control:checked~label.sk-toggleable__label {background-color: #d4ebff;}#sk-container-id-2 input.sk-hidden--visually {border: 0;clip: rect(1px 1px 1px 1px);clip: rect(1px, 1px, 1px, 1px);height: 1px;margin: -1px;overflow: hidden;padding: 0;position: absolute;width: 1px;}#sk-container-id-2 div.sk-estimator {font-family: monospace;background-color: #f0f8ff;border: 1px dotted black;border-radius: 0.25em;box-sizing: border-box;margin-bottom: 0.5em;}#sk-container-id-2 div.sk-estimator:hover {background-color: #d4ebff;}#sk-container-id-2 div.sk-parallel-item::after {content: \"\";width: 100%;border-bottom: 1px solid gray;flex-grow: 1;}#sk-container-id-2 div.sk-label:hover label.sk-toggleable__label {background-color: #d4ebff;}#sk-container-id-2 div.sk-serial::before {content: \"\";position: absolute;border-left: 1px solid gray;box-sizing: border-box;top: 0;bottom: 0;left: 50%;z-index: 0;}#sk-container-id-2 div.sk-serial {display: flex;flex-direction: column;align-items: center;background-color: white;padding-right: 0.2em;padding-left: 0.2em;position: relative;}#sk-container-id-2 div.sk-item {position: relative;z-index: 1;}#sk-container-id-2 div.sk-parallel {display: flex;align-items: stretch;justify-content: center;background-color: white;position: relative;}#sk-container-id-2 div.sk-item::before, #sk-container-id-2 div.sk-parallel-item::before {content: \"\";position: absolute;border-left: 1px solid gray;box-sizing: border-box;top: 0;bottom: 0;left: 50%;z-index: -1;}#sk-container-id-2 div.sk-parallel-item {display: flex;flex-direction: column;z-index: 1;position: relative;background-color: white;}#sk-container-id-2 div.sk-parallel-item:first-child::after {align-self: flex-end;width: 50%;}#sk-container-id-2 div.sk-parallel-item:last-child::after {align-self: flex-start;width: 50%;}#sk-container-id-2 div.sk-parallel-item:only-child::after {width: 0;}#sk-container-id-2 div.sk-dashed-wrapped {border: 1px dashed gray;margin: 0 0.4em 0.5em 0.4em;box-sizing: border-box;padding-bottom: 0.4em;background-color: white;}#sk-container-id-2 div.sk-label label {font-family: monospace;font-weight: bold;display: inline-block;line-height: 1.2em;}#sk-container-id-2 div.sk-label-container {text-align: center;}#sk-container-id-2 div.sk-container {/* jupyter's `normalize.less` sets `[hidden] { display: none; }` but bootstrap.min.css set `[hidden] { display: none !important; }` so we also need the `!important` here to be able to override the default hidden behavior on the sphinx rendered scikit-learn.org. See: https://github.com/scikit-learn/scikit-learn/issues/21755 */display: inline-block !important;position: relative;}#sk-container-id-2 div.sk-text-repr-fallback {display: none;}</style><div id=\"sk-container-id-2\" class=\"sk-top-container\"><div class=\"sk-text-repr-fallback\"><pre>KNeighborsClassifier()</pre><b>In a Jupyter environment, please rerun this cell to show the HTML representation or trust the notebook. <br />On GitHub, the HTML representation is unable to render, please try loading this page with nbviewer.org.</b></div><div class=\"sk-container\" hidden><div class=\"sk-item\"><div class=\"sk-estimator sk-toggleable\"><input class=\"sk-toggleable__control sk-hidden--visually\" id=\"sk-estimator-id-2\" type=\"checkbox\" checked><label for=\"sk-estimator-id-2\" class=\"sk-toggleable__label sk-toggleable__label-arrow\">KNeighborsClassifier</label><div class=\"sk-toggleable__content\"><pre>KNeighborsClassifier()</pre></div></div></div></div></div>"
      ],
      "text/plain": [
       "KNeighborsClassifier()"
      ]
     },
     "execution_count": 41,
     "metadata": {},
     "output_type": "execute_result"
    }
   ],
   "source": [
    "classifier = KNeighborsClassifier(n_neighbors=5)\n",
    "classifier.fit(x_train,y_train)"
   ]
  },
  {
   "cell_type": "code",
   "execution_count": 42,
   "id": "5849f4d9-ceea-4c58-92be-7d53e35b14a8",
   "metadata": {},
   "outputs": [],
   "source": [
    "preds = classifier.predict(x_test)"
   ]
  },
  {
   "cell_type": "code",
   "execution_count": 43,
   "id": "4d4167c9-53ba-49df-b148-d1c12189d622",
   "metadata": {},
   "outputs": [
    {
     "name": "stdout",
     "output_type": "stream",
     "text": [
      "Confusion matrix: \n",
      "[[8653  102]\n",
      " [  79 8666]]\n"
     ]
    }
   ],
   "source": [
    "print(f\"Confusion matrix: \\n{confusion_matrix(y_test,preds)}\")"
   ]
  },
  {
   "cell_type": "code",
   "execution_count": 44,
   "id": "76271c36-4839-43c7-b587-44f3294d149a",
   "metadata": {},
   "outputs": [
    {
     "name": "stdout",
     "output_type": "stream",
     "text": [
      "Accuracy scorre: \n",
      "0.9896571428571429\n"
     ]
    }
   ],
   "source": [
    "print(f\"Accuracy scorre: \\n{accuracy_score(y_test,preds)}\")"
   ]
  },
  {
   "cell_type": "code",
   "execution_count": null,
   "id": "1be4e297-3d57-48ed-999e-12887d5f2dc6",
   "metadata": {},
   "outputs": [],
   "source": []
  },
  {
   "cell_type": "code",
   "execution_count": 50,
   "id": "a74e46a3-84f3-4b2a-811a-039908efd1d3",
   "metadata": {},
   "outputs": [],
   "source": []
  },
  {
   "cell_type": "code",
   "execution_count": null,
   "id": "3ca50f63-1773-47b6-970b-0d7f1a52720d",
   "metadata": {},
   "outputs": [],
   "source": [
    "# k_values = list(range(1,20,2))\n",
    "# scores = []\n",
    "# import numpy as np\n",
    "# for i in k_values:\n",
    "#     knn = KNeighborsClassifier(n_neighbors=i)\n",
    "#     score = cross_val_score(knn, x,y, cv=5)\n",
    "#     scores.append(np.mean(score))"
   ]
  },
  {
   "cell_type": "code",
   "execution_count": 57,
   "id": "0d22f93a-4a46-48c5-80ed-f227efeabc5a",
   "metadata": {},
   "outputs": [
    {
     "name": "stdout",
     "output_type": "stream",
     "text": [
      "[nan, nan, nan, nan, nan, nan, nan, nan, nan, nan]\n"
     ]
    }
   ],
   "source": [
    "# print(scores)"
   ]
  },
  {
   "cell_type": "code",
   "execution_count": 55,
   "id": "1784bd25-07b9-417b-a229-86ddb0f65d4f",
   "metadata": {},
   "outputs": [],
   "source": [
    "# import joblib \n",
    "# joblib.dump(classifier, 'heart_risk.joblib')"
   ]
  },
  {
   "cell_type": "code",
   "execution_count": null,
   "id": "18f7836b-5518-4354-825f-f98933d1d2e9",
   "metadata": {},
   "outputs": [],
   "source": []
  }
 ],
 "metadata": {
  "kernelspec": {
   "display_name": "anaconda-2024.02-py310",
   "language": "python",
   "name": "conda-env-anaconda-2024.02-py310-py"
  },
  "language_info": {
   "codemirror_mode": {
    "name": "ipython",
    "version": 3
   },
   "file_extension": ".py",
   "mimetype": "text/x-python",
   "name": "python",
   "nbconvert_exporter": "python",
   "pygments_lexer": "ipython3",
   "version": "3.10.14"
  }
 },
 "nbformat": 4,
 "nbformat_minor": 5
}
